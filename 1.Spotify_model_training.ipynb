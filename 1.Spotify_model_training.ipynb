{
 "cells": [
  {
   "cell_type": "code",
   "execution_count": 2,
   "id": "4a5f562d-7304-4542-97f5-e1e0879196d8",
   "metadata": {},
   "outputs": [],
   "source": [
    "import pandas as pd"
   ]
  },
  {
   "cell_type": "code",
   "execution_count": 3,
   "id": "1656b936-151a-448a-9b01-10eb6a7b6934",
   "metadata": {},
   "outputs": [
    {
     "data": {
      "text/html": [
       "<div>\n",
       "<style scoped>\n",
       "    .dataframe tbody tr th:only-of-type {\n",
       "        vertical-align: middle;\n",
       "    }\n",
       "\n",
       "    .dataframe tbody tr th {\n",
       "        vertical-align: top;\n",
       "    }\n",
       "\n",
       "    .dataframe thead th {\n",
       "        text-align: right;\n",
       "    }\n",
       "</style>\n",
       "<table border=\"1\" class=\"dataframe\">\n",
       "  <thead>\n",
       "    <tr style=\"text-align: right;\">\n",
       "      <th></th>\n",
       "      <th>artist</th>\n",
       "      <th>song</th>\n",
       "      <th>link</th>\n",
       "      <th>text</th>\n",
       "    </tr>\n",
       "  </thead>\n",
       "  <tbody>\n",
       "    <tr>\n",
       "      <th>0</th>\n",
       "      <td>ABBA</td>\n",
       "      <td>Ahe's My Kind Of Girl</td>\n",
       "      <td>/a/abba/ahes+my+kind+of+girl_20598417.html</td>\n",
       "      <td>Look at her face, it's a wonderful face  \\r\\nA...</td>\n",
       "    </tr>\n",
       "    <tr>\n",
       "      <th>1</th>\n",
       "      <td>ABBA</td>\n",
       "      <td>Andante, Andante</td>\n",
       "      <td>/a/abba/andante+andante_20002708.html</td>\n",
       "      <td>Take it easy with me, please  \\r\\nTouch me gen...</td>\n",
       "    </tr>\n",
       "    <tr>\n",
       "      <th>2</th>\n",
       "      <td>ABBA</td>\n",
       "      <td>As Good As New</td>\n",
       "      <td>/a/abba/as+good+as+new_20003033.html</td>\n",
       "      <td>I'll never know why I had to go  \\r\\nWhy I had...</td>\n",
       "    </tr>\n",
       "    <tr>\n",
       "      <th>3</th>\n",
       "      <td>ABBA</td>\n",
       "      <td>Bang</td>\n",
       "      <td>/a/abba/bang_20598415.html</td>\n",
       "      <td>Making somebody happy is a question of give an...</td>\n",
       "    </tr>\n",
       "  </tbody>\n",
       "</table>\n",
       "</div>"
      ],
      "text/plain": [
       "  artist                   song                                        link  \\\n",
       "0   ABBA  Ahe's My Kind Of Girl  /a/abba/ahes+my+kind+of+girl_20598417.html   \n",
       "1   ABBA       Andante, Andante       /a/abba/andante+andante_20002708.html   \n",
       "2   ABBA         As Good As New        /a/abba/as+good+as+new_20003033.html   \n",
       "3   ABBA                   Bang                  /a/abba/bang_20598415.html   \n",
       "\n",
       "                                                text  \n",
       "0  Look at her face, it's a wonderful face  \\r\\nA...  \n",
       "1  Take it easy with me, please  \\r\\nTouch me gen...  \n",
       "2  I'll never know why I had to go  \\r\\nWhy I had...  \n",
       "3  Making somebody happy is a question of give an...  "
      ]
     },
     "execution_count": 3,
     "metadata": {},
     "output_type": "execute_result"
    }
   ],
   "source": [
    "df = pd.read_csv(r\"C:\\Users\\ayush\\Desktop\\JUPYTER\\DATASET\\spotify_millsongdata.csv\")\n",
    "df.head(4)"
   ]
  },
  {
   "cell_type": "code",
   "execution_count": 4,
   "id": "5f2593a0-3b29-4f97-886a-f8f7fe27a423",
   "metadata": {},
   "outputs": [
    {
     "data": {
      "text/plain": [
       "(57650, 4)"
      ]
     },
     "execution_count": 4,
     "metadata": {},
     "output_type": "execute_result"
    }
   ],
   "source": [
    "df.shape"
   ]
  },
  {
   "cell_type": "code",
   "execution_count": 5,
   "id": "a68d7f8f-fb07-45df-8778-358cbe4bb9ae",
   "metadata": {},
   "outputs": [
    {
     "data": {
      "text/plain": [
       "artist    0\n",
       "song      0\n",
       "link      0\n",
       "text      0\n",
       "dtype: int64"
      ]
     },
     "execution_count": 5,
     "metadata": {},
     "output_type": "execute_result"
    }
   ],
   "source": [
    "df.isnull().sum()"
   ]
  },
  {
   "cell_type": "code",
   "execution_count": 6,
   "id": "dc6c4c85-b4a4-4f6d-b34f-f8c1e4963041",
   "metadata": {},
   "outputs": [
    {
     "data": {
      "text/html": [
       "<div>\n",
       "<style scoped>\n",
       "    .dataframe tbody tr th:only-of-type {\n",
       "        vertical-align: middle;\n",
       "    }\n",
       "\n",
       "    .dataframe tbody tr th {\n",
       "        vertical-align: top;\n",
       "    }\n",
       "\n",
       "    .dataframe thead th {\n",
       "        text-align: right;\n",
       "    }\n",
       "</style>\n",
       "<table border=\"1\" class=\"dataframe\">\n",
       "  <thead>\n",
       "    <tr style=\"text-align: right;\">\n",
       "      <th></th>\n",
       "      <th>artist</th>\n",
       "      <th>song</th>\n",
       "      <th>text</th>\n",
       "    </tr>\n",
       "  </thead>\n",
       "  <tbody>\n",
       "    <tr>\n",
       "      <th>0</th>\n",
       "      <td>Linda Ronstadt</td>\n",
       "      <td>All The Beautiful Things</td>\n",
       "      <td>The rain doesn't fall on me any more  \\r\\nThe ...</td>\n",
       "    </tr>\n",
       "    <tr>\n",
       "      <th>1</th>\n",
       "      <td>W.A.S.P.</td>\n",
       "      <td>My Wicked Heart</td>\n",
       "      <td>Am I free  \\r\\nAm I done believing  \\r\\nOh God...</td>\n",
       "    </tr>\n",
       "    <tr>\n",
       "      <th>2</th>\n",
       "      <td>Primus</td>\n",
       "      <td>My Friend Fats</td>\n",
       "      <td>My friend Fats, he's a hell of a guy.  \\r\\nLet...</td>\n",
       "    </tr>\n",
       "    <tr>\n",
       "      <th>3</th>\n",
       "      <td>Johnny Cash</td>\n",
       "      <td>Heavy Metal (Don't Mean Rock And Roll To Me)</td>\n",
       "      <td>Some days I think this old machine is out to g...</td>\n",
       "    </tr>\n",
       "    <tr>\n",
       "      <th>4</th>\n",
       "      <td>Miley Cyrus</td>\n",
       "      <td>1 In Amillon</td>\n",
       "      <td>How did I get here? I turned around and there ...</td>\n",
       "    </tr>\n",
       "    <tr>\n",
       "      <th>5</th>\n",
       "      <td>America</td>\n",
       "      <td>Today's The Day</td>\n",
       "      <td>Hold me close  \\r\\nYou turn nighttime into day...</td>\n",
       "    </tr>\n",
       "    <tr>\n",
       "      <th>6</th>\n",
       "      <td>Europe</td>\n",
       "      <td>Spirit Of The Underdog</td>\n",
       "      <td>Seen you round I know your face  \\r\\nWatched y...</td>\n",
       "    </tr>\n",
       "    <tr>\n",
       "      <th>7</th>\n",
       "      <td>Foreigner</td>\n",
       "      <td>Lonely Children</td>\n",
       "      <td>You go where the wind blows, leading the life ...</td>\n",
       "    </tr>\n",
       "    <tr>\n",
       "      <th>8</th>\n",
       "      <td>Morrissey</td>\n",
       "      <td>The World Is Full Of Crashing Bores</td>\n",
       "      <td>You must be wondering how,  \\r\\nThe boy next d...</td>\n",
       "    </tr>\n",
       "    <tr>\n",
       "      <th>9</th>\n",
       "      <td>Norah Jones</td>\n",
       "      <td>Everybody Needs A Best Friend</td>\n",
       "      <td>My words are lazy  \\r\\nMy thoughts are hazy  \\...</td>\n",
       "    </tr>\n",
       "  </tbody>\n",
       "</table>\n",
       "</div>"
      ],
      "text/plain": [
       "           artist                                          song  \\\n",
       "0  Linda Ronstadt                      All The Beautiful Things   \n",
       "1        W.A.S.P.                               My Wicked Heart   \n",
       "2          Primus                                My Friend Fats   \n",
       "3     Johnny Cash  Heavy Metal (Don't Mean Rock And Roll To Me)   \n",
       "4     Miley Cyrus                                  1 In Amillon   \n",
       "5         America                               Today's The Day   \n",
       "6          Europe                        Spirit Of The Underdog   \n",
       "7       Foreigner                               Lonely Children   \n",
       "8       Morrissey           The World Is Full Of Crashing Bores   \n",
       "9     Norah Jones                 Everybody Needs A Best Friend   \n",
       "\n",
       "                                                text  \n",
       "0  The rain doesn't fall on me any more  \\r\\nThe ...  \n",
       "1  Am I free  \\r\\nAm I done believing  \\r\\nOh God...  \n",
       "2  My friend Fats, he's a hell of a guy.  \\r\\nLet...  \n",
       "3  Some days I think this old machine is out to g...  \n",
       "4  How did I get here? I turned around and there ...  \n",
       "5  Hold me close  \\r\\nYou turn nighttime into day...  \n",
       "6  Seen you round I know your face  \\r\\nWatched y...  \n",
       "7  You go where the wind blows, leading the life ...  \n",
       "8  You must be wondering how,  \\r\\nThe boy next d...  \n",
       "9  My words are lazy  \\r\\nMy thoughts are hazy  \\...  "
      ]
     },
     "execution_count": 6,
     "metadata": {},
     "output_type": "execute_result"
    }
   ],
   "source": [
    "df = df.sample(5000).drop(\"link\",axis=1).reset_index(drop=True)\n",
    "df.head(10)"
   ]
  },
  {
   "cell_type": "code",
   "execution_count": 7,
   "id": "7fb8b1f0-9b95-4385-812c-a25394d8c1a9",
   "metadata": {},
   "outputs": [
    {
     "data": {
      "text/plain": [
       "\"The rain doesn't fall on me any more  \\r\\nThe sun doesn't feel as warm as before  \\r\\nStars seem far away and fading from sight  \\r\\nAll the beautiful things in my life  \\r\\nThey're all gone, all gone, all gone now  \\r\\n  \\r\\nClose talks, long walks taken with friends  \\r\\nGetting dirty playing with the neighborhood kids  \\r\\nWaking up early to see the sun rise  \\r\\nAll the meaningful things in my life  \\r\\nThey're all gone, all gone, all gone now  \\r\\n  \\r\\nSong birds, summer words in my ear  \\r\\nThe fingers of the wind brushing my hair  \\r\\nThe mold on the leaves as they die each year  \\r\\nThe magical things in my life  \\r\\nThey're all gone, all gone, all gone now\\r\\n\\r\\n\""
      ]
     },
     "execution_count": 7,
     "metadata": {},
     "output_type": "execute_result"
    }
   ],
   "source": [
    "df[\"text\"][0]"
   ]
  },
  {
   "cell_type": "code",
   "execution_count": 8,
   "id": "f8a2ebf7-73c1-4a0c-ac3a-3c6c6751ed05",
   "metadata": {},
   "outputs": [
    {
     "data": {
      "text/plain": [
       "(5000, 3)"
      ]
     },
     "execution_count": 8,
     "metadata": {},
     "output_type": "execute_result"
    }
   ],
   "source": [
    "df.shape"
   ]
  },
  {
   "cell_type": "markdown",
   "id": "92246b1b-aa07-4296-ae25-f8ff29d0db56",
   "metadata": {},
   "source": [
    "# Text cleaning/ Text preprocessing"
   ]
  },
  {
   "cell_type": "code",
   "execution_count": 9,
   "id": "441b255f-65bb-4f76-9da7-bfe9e0528c69",
   "metadata": {},
   "outputs": [],
   "source": [
    "df['text']=df['text'].str.lower().replace(r'^\\w\\s',' ').replace(r'\\n',' ', regex = True)"
   ]
  },
  {
   "cell_type": "code",
   "execution_count": null,
   "id": "10e54a62-82b3-46dd-ab8b-e7d564fd4c0e",
   "metadata": {},
   "outputs": [],
   "source": []
  },
  {
   "cell_type": "code",
   "execution_count": 10,
   "id": "6d3eb49d-d97c-41db-8b8c-450857fa4d97",
   "metadata": {},
   "outputs": [],
   "source": [
    "import nltk\n",
    "from nltk.stem.porter import PorterStemmer"
   ]
  },
  {
   "cell_type": "code",
   "execution_count": 11,
   "id": "c53e4459-23a9-41f6-ba7e-688a694624e9",
   "metadata": {},
   "outputs": [
    {
     "name": "stderr",
     "output_type": "stream",
     "text": [
      "[nltk_data] Downloading package punkt to\n",
      "[nltk_data]     C:\\Users\\ayush\\AppData\\Roaming\\nltk_data...\n",
      "[nltk_data]   Package punkt is already up-to-date!\n",
      "[nltk_data] Downloading package punkt_tab to\n",
      "[nltk_data]     C:\\Users\\ayush\\AppData\\Roaming\\nltk_data...\n",
      "[nltk_data]   Package punkt_tab is already up-to-date!\n"
     ]
    },
    {
     "data": {
      "text/plain": [
       "True"
      ]
     },
     "execution_count": 11,
     "metadata": {},
     "output_type": "execute_result"
    }
   ],
   "source": [
    "nltk.download('punkt')\n",
    "nltk.download('punkt_tab')"
   ]
  },
  {
   "cell_type": "code",
   "execution_count": 12,
   "id": "7e892c77-4d76-4ccc-bcd5-582a6a5de36c",
   "metadata": {},
   "outputs": [],
   "source": [
    "stemmer = PorterStemmer()"
   ]
  },
  {
   "cell_type": "code",
   "execution_count": 13,
   "id": "d5fc29ae-96d0-4749-959e-70f6c87846aa",
   "metadata": {},
   "outputs": [],
   "source": [
    "def token(txt):\n",
    "    token = nltk.word_tokenize(txt)\n",
    "    a = [stemmer.stem(w) for w in token]\n",
    "    return \" \".join(a)"
   ]
  },
  {
   "cell_type": "code",
   "execution_count": null,
   "id": "7194dbe8-0866-4cd1-bba0-7c5f0ad9e459",
   "metadata": {},
   "outputs": [],
   "source": []
  },
  {
   "cell_type": "code",
   "execution_count": 14,
   "id": "f566707c-14e1-4b40-8cf7-d895cc6f589f",
   "metadata": {},
   "outputs": [
    {
     "data": {
      "text/plain": [
       "0       the rain doe n't fall on me ani more the sun d...\n",
       "1       am i free am i done believ oh god jehovah i 'v...\n",
       "2       my friend fat , he 's a hell of a guy . let me...\n",
       "3       some day i think thi old machin is out to get ...\n",
       "4       how did i get here ? i turn around and there y...\n",
       "                              ...                        \n",
       "4995    oh listen , sister i love my mister man and i ...\n",
       "4996    it 's alright it 's ok i 'll keep hold on toda...\n",
       "4997    we go down to a foriegn land dive through the ...\n",
       "4998    darl , je vou aim beaucoup je ne sai pa what y...\n",
       "4999    no matter who you are no matter what you do th...\n",
       "Name: text, Length: 5000, dtype: object"
      ]
     },
     "execution_count": 14,
     "metadata": {},
     "output_type": "execute_result"
    }
   ],
   "source": [
    "df['text'].apply(lambda x : token(x))"
   ]
  },
  {
   "cell_type": "code",
   "execution_count": 15,
   "id": "275dc630-c228-4246-b049-6479291853f6",
   "metadata": {},
   "outputs": [],
   "source": [
    "from sklearn.feature_extraction.text import TfidfVectorizer\n",
    "from sklearn.metrics.pairwise import cosine_similarity"
   ]
  },
  {
   "cell_type": "code",
   "execution_count": 16,
   "id": "35dc4cb4-7b53-4aa9-9a42-b7dca29aabb3",
   "metadata": {},
   "outputs": [],
   "source": [
    "tfid = TfidfVectorizer(analyzer='word', stop_words='english')"
   ]
  },
  {
   "cell_type": "code",
   "execution_count": 17,
   "id": "30f90b55-3159-4005-a06c-5fbaa185b886",
   "metadata": {},
   "outputs": [],
   "source": [
    "matrix = tfid.fit_transform(df['text'])"
   ]
  },
  {
   "cell_type": "code",
   "execution_count": 18,
   "id": "a26b8e24-a4ba-4e1b-8d7a-8867a1205768",
   "metadata": {},
   "outputs": [],
   "source": [
    "similar = cosine_similarity(matrix)"
   ]
  },
  {
   "cell_type": "code",
   "execution_count": 19,
   "id": "bd599be0-2781-479c-aa56-c40e3430d5f9",
   "metadata": {},
   "outputs": [
    {
     "data": {
      "text/plain": [
       "array([1.        , 0.00424448, 0.00175522, ..., 0.03207341, 0.01728133,\n",
       "       0.01700973], shape=(5000,))"
      ]
     },
     "execution_count": 19,
     "metadata": {},
     "output_type": "execute_result"
    }
   ],
   "source": [
    "similar[0]"
   ]
  },
  {
   "cell_type": "code",
   "execution_count": 21,
   "id": "8d15b6ef-4cba-4ef0-8b7f-d38fe074e4de",
   "metadata": {},
   "outputs": [
    {
     "data": {
      "text/plain": [
       "np.int64(8)"
      ]
     },
     "execution_count": 21,
     "metadata": {},
     "output_type": "execute_result"
    }
   ],
   "source": [
    "df[df['song']=='The World Is Full Of Crashing Bores'].index[0]"
   ]
  },
  {
   "cell_type": "markdown",
   "id": "0e287b71-c41e-413e-b741-e4266578b89b",
   "metadata": {},
   "source": [
    "# Recommender Function"
   ]
  },
  {
   "cell_type": "code",
   "execution_count": 22,
   "id": "c8a03255-85ce-4d9d-aade-cfa42b31a2e6",
   "metadata": {},
   "outputs": [],
   "source": [
    "def recommender(song_name):\n",
    "    idx = df[df['song']==song_name].index[0]\n",
    "    diatance = sorted(list(enumerate(similar[idx])), reverse=True, key=lambda x:x[1])\n",
    "    song = []\n",
    "    for s_id in diatance[1:5]:\n",
    "        song.append(df.iloc[s_id[0]].song)\n",
    "    return song"
   ]
  },
  {
   "cell_type": "code",
   "execution_count": 23,
   "id": "8dd5533e-aefe-4b61-a836-bcd86f12db94",
   "metadata": {},
   "outputs": [
    {
     "data": {
      "text/plain": [
       "['Let Me Take You In My Arms Again',\n",
       " 'In My Arms',\n",
       " 'Our Love',\n",
       " 'I Love You, Earth']"
      ]
     },
     "execution_count": 23,
     "metadata": {},
     "output_type": "execute_result"
    }
   ],
   "source": [
    "recommender('The World Is Full Of Crashing Bores')"
   ]
  },
  {
   "cell_type": "code",
   "execution_count": 24,
   "id": "c6d833af-44e6-4656-9bc4-0fc0982ad162",
   "metadata": {},
   "outputs": [],
   "source": [
    "import pickle"
   ]
  },
  {
   "cell_type": "code",
   "execution_count": 26,
   "id": "cf0a120e-2e2d-422b-b79d-d9b04f175017",
   "metadata": {},
   "outputs": [],
   "source": [
    "pickle.dump(similar,open(\"similarity\", \"wb\"))"
   ]
  },
  {
   "cell_type": "code",
   "execution_count": 27,
   "id": "b9b8c437-9ec7-4dc8-b080-3b748f4c453e",
   "metadata": {},
   "outputs": [],
   "source": [
    "pickle.dump(df,open(\"df\", \"wb\"))"
   ]
  },
  {
   "cell_type": "code",
   "execution_count": null,
   "id": "6b1def73-9e60-4c85-80fa-207859f978ae",
   "metadata": {},
   "outputs": [],
   "source": []
  }
 ],
 "metadata": {
  "kernelspec": {
   "display_name": "Python 3 (ipykernel)",
   "language": "python",
   "name": "python3"
  },
  "language_info": {
   "codemirror_mode": {
    "name": "ipython",
    "version": 3
   },
   "file_extension": ".py",
   "mimetype": "text/x-python",
   "name": "python",
   "nbconvert_exporter": "python",
   "pygments_lexer": "ipython3",
   "version": "3.12.4"
  }
 },
 "nbformat": 4,
 "nbformat_minor": 5
}
